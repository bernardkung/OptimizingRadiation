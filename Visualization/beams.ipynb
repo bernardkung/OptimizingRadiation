{
 "cells": [
  {
   "cell_type": "code",
   "execution_count": null,
   "metadata": {
    "collapsed": true
   },
   "outputs": [],
   "source": [
    "## Visualization Code for Optimizing Radiation Problem Formulation\n",
    "## Bernard Kung\n",
    "## 04/30/2017"
   ]
  },
  {
   "cell_type": "code",
   "execution_count": null,
   "metadata": {
    "collapsed": true
   },
   "outputs": [],
   "source": [
    "### Small Example Visualization\n",
    "\n",
    "filepath_in <- c(\"F:/Media/Google Drive/GitHub/OptimizingRadiation/Input/\")\n",
    "filepath_out <- c(\"F:/Media/Google Drive/GitHub/OptimizingRadiation/Visualization/\")\n",
    "\n",
    "sm_tumr_raw <- read.table(paste(filepath_in, \"small_tumor_raw.txt\", sep = \"\"), header = FALSE)\n",
    "sm_crit_raw <- read.table(paste(filepath_in, \"small_critical_raw.txt\", sep = \"\"), header = FALSE)\n",
    "sm_beam_raw <- read.table(paste(filepath_in, \"small_beam_raw.txt\", sep = \"\"), header = FALSE)"
   ]
  },
  {
   "cell_type": "code",
   "execution_count": null,
   "metadata": {
    "collapsed": true
   },
   "outputs": [],
   "source": [
    "# reads in data from .txt files"
   ]
  },
  {
   "cell_type": "code",
   "execution_count": null,
   "metadata": {
    "collapsed": true
   },
   "outputs": [],
   "source": [
    "sm_beam_v <- vector(\"list\", 5)\n",
    "sm_beam <- vector(\"list\", 5)\n",
    "rotate <- function(x) t(apply(x, 2, rev))"
   ]
  },
  {
   "cell_type": "code",
   "execution_count": null,
   "metadata": {
    "collapsed": true
   },
   "outputs": [],
   "source": [
    "# sm_beam is the final list, sm_beam_v is an intermediate list\n",
    "# image() function automatically rotates matrices\n",
    "# rotate() function is needed to counteract the image() rotation"
   ]
  },
  {
   "cell_type": "code",
   "execution_count": null,
   "metadata": {
    "collapsed": true
   },
   "outputs": [],
   "source": [
    "for (i in 1:length(sm_beam)) {\n",
    "    \n",
    "    sm_beam_v[[i]] <- do.call(\"c\", sm_beam_raw[(8*i-7):(8*i), 1:8])\n",
    "    sm_beam[[i]] <- matrix(sm_beam_v[[i]], nrow = 8)\n",
    "    \n",
    "    png(filename=paste(filepath_out, \"beam\",i, \".png\", sep = \"\"))\n",
    "    image(rotate(sm_beam[[i]]), col = cm.colors(128), axes = FALSE, main = paste(\"Small Beam\", i))\n",
    "    axis(1, at = seq(0,1, by=1/7), labels = seq(1,8))\n",
    "    axis(2, at = seq(0,1, by=1/7), labels = seq(1,8), las = 2)\n",
    "    dev.off()\n",
    "    \n",
    "    }"
   ]
  },
  {
   "cell_type": "code",
   "execution_count": null,
   "metadata": {
    "collapsed": true
   },
   "outputs": [],
   "source": [
    "# beams are stored as sequential matrices in .txt files\n",
    "# this loop separates them into appropriately sized matrices\n",
    "# and generates a .png visualizing the beam as a 'heatmap'"
   ]
  },
  {
   "cell_type": "code",
   "execution_count": null,
   "metadata": {
    "collapsed": true
   },
   "outputs": [],
   "source": [
    "sm_tumr_v <- do.call(\"c\", sm_tumr_raw)\n",
    "sm_tumr <- matrix(sm_tumr_v, nrow = 8)\n",
    "\n",
    "sm_crit_v <- do.call(\"c\", sm_crit_raw)\n",
    "sm_crit <- matrix(sm_crit_v, nrow = 8)"
   ]
  },
  {
   "cell_type": "code",
   "execution_count": null,
   "metadata": {
    "collapsed": true
   },
   "outputs": [],
   "source": [
    "# to convert to matrix form, flatten out the data.frames\n",
    "# then read it back into the final list in matrix format"
   ]
  },
  {
   "cell_type": "code",
   "execution_count": null,
   "metadata": {
    "collapsed": true
   },
   "outputs": [],
   "source": [
    "png(filename=paste(filepath_out, \"small_tumor\", \".png\", sep = \"\"))\n",
    "image(rotate(sm_tumr), col = cm.colors(128), axes = FALSE, main=\"Small Tumor Area\")\n",
    "axis(1, at = seq(0,1, by=1/7), labels = seq(1,8))\n",
    "axis(2, at = seq(0,1, by=1/7), labels = seq(1,8), las = 2)\n",
    "dev.off()\n",
    "\n",
    "png(filename=paste(filepath_out, \"small_critical\", \".png\", sep = \"\"))\n",
    "image(rotate(sm_crit), col = cm.colors(128), axes = FALSE, main = \"Small Critical Area\")\n",
    "axis(1, at = seq(0,1, by=1/7), labels = seq(1,8))\n",
    "axis(2, at = seq(0,1, by=1/7), labels = seq(1,8), las = 2)\n",
    "dev.off()"
   ]
  },
  {
   "cell_type": "code",
   "execution_count": null,
   "metadata": {
    "collapsed": true
   },
   "outputs": [],
   "source": [
    "# finally, generates visualizations of both tumor and critical area"
   ]
  },
  {
   "cell_type": "code",
   "execution_count": null,
   "metadata": {
    "collapsed": true
   },
   "outputs": [],
   "source": [
    "## Actual Example Visualization\n",
    "\n",
    "filepath_in <- c(\"F:/Media/Google Drive/GitHub/OptimizingRadiation/Input/\")\n",
    "filepath_out <- c(\"F:/Media/Google Drive/GitHub/OptimizingRadiation/Visualization/\")\n",
    "\n",
    "ac_tumr_raw <- read.table(paste(filepath_in, \"actual_tumor_raw.txt\", sep = \"\"), header = FALSE)\n",
    "ac_crit_raw <- read.table(paste(filepath_in, \"actual_critical_raw.txt\", sep = \"\"), header = FALSE)\n",
    "ac_beam_raw <- read.table(paste(filepath_in, \"actual_beam_raw.txt\", sep = \"\"), header = FALSE)\n",
    "\n",
    "ac_beam_v <- vector(\"list\", 126)\n",
    "ac_beam <- vector(\"list\", 126)\n",
    "rotate <- function(x) t(apply(x, 2, rev))\n",
    "\n",
    "for (i in 1:length(ac_beam)) {\n",
    "  \n",
    "  ac_beam_v[[i]] <- do.call(\"c\", ac_beam_raw[(60*i-59):(60*i), 1:80])\n",
    "  ac_beam[[i]] <- matrix(ac_beam_v[[i]], nrow = 60)\n",
    "  \n",
    "#  png(filename=paste(filepath_out, \"Actual Beams/actual_beam\",i, \".png\", sep = \"\"))\n",
    "#  image(rotate(ac_beam[[i]]), col = cm.colors(128), axes = FALSE, main = paste(\"Actual Beam\", i))\n",
    "#  axis(1, at = seq(0,1, by=1/8), labels = seq(0,80,10))\n",
    "#  axis(2, at = seq(0,1, by=1/6), labels = seq(0,60,10), las = 2)\n",
    "#  dev.off()\n",
    "  \n",
    "  }\n",
    "    \n",
    "png(filename=paste(filepath_out, \"Actual Beams/actual_beam\",1, \".png\", sep = \"\"))\n",
    "image(rotate(ac_beam[[1]]), col = cm.colors(128), axes = FALSE, main = paste(\"Actual Beam\", 1), col = colors(128)[507])\n",
    "axis(1, at = seq(0,1, by=1/8), labels = seq(0,80,10))\n",
    "axis(2, at = seq(0,1, by=1/6), labels = seq(0,60,10), las = 2)\n",
    "dev.off()\n"
   ]
  },
  {
   "cell_type": "code",
   "execution_count": null,
   "metadata": {
    "collapsed": true
   },
   "outputs": [],
   "source": [
    "# similarly, iterate over all the beams, with modified dimensions to meet specs\n",
    "# 126 total beams, so visualization is optional\n",
    "# sample beam is generated to ensure everything has been processed correctly"
   ]
  },
  {
   "cell_type": "code",
   "execution_count": null,
   "metadata": {
    "collapsed": true
   },
   "outputs": [],
   "source": [
    "ac_tumr_v <- do.call(\"c\", ac_tumr_raw)\n",
    "ac_tumr <- matrix(ac_tumr_v, nrow = 60)\n",
    "\n",
    "ac_crit_v <- do.call(\"c\", ac_crit_raw)\n",
    "ac_crit <- matrix(ac_crit_v, nrow = 60)\n",
    "\n",
    "png(filename=paste(filepath_out, \"actual_tumor\", \".png\", sep = \"\"))\n",
    "image(rotate(ac_tumr), col = cm.colors(128), axes = FALSE, main=\"Actual Tumor Area\")\n",
    "axis(1, at = seq(0,1, by=1/8), labels = seq(0,80,10))\n",
    "axis(2, at = seq(0,1, by=1/6), labels = seq(0,60,10), las = 2)\n",
    "dev.off()\n",
    "\n",
    "png(filename=paste(filepath_out, \"actual_critical\", \".png\", sep = \"\"))\n",
    "image(rotate(ac_crit), col = cm.colors(128), axes = FALSE, main = \"Actual Critical Area\")\n",
    "axis(1, at = seq(0,1, by=1/8), labels = seq(0,80,10))\n",
    "axis(2, at = seq(0,1, by=1/6), labels = seq(0,60,10), las = 2)\n",
    "dev.off()\n",
    "\n",
    "beam_map <- Reduce('+', ac_beam)\n",
    "\n",
    "png(filename=paste(filepath_out, \"actual_beam_map\", \".png\", sep = \"\"))\n",
    "image(rotate(beam_map), col = rainbow(256), axes = FALSE, main=\"Actual Beams (Overlay)\")\n",
    "axis(1, at = seq(0,1, by=1/8), labels = seq(0,80,10))\n",
    "axis(2, at = seq(0,1, by=1/6), labels = seq(0,60,10), las = 2)\n",
    "dev.off()\n"
   ]
  },
  {
   "cell_type": "code",
   "execution_count": null,
   "metadata": {
    "collapsed": true
   },
   "outputs": [],
   "source": [
    "# reduce() overlays all the beams, which is then visualized in a .png file"
   ]
  }
 ],
 "metadata": {
  "kernelspec": {
   "display_name": "R",
   "language": "R",
   "name": "ir"
  },
  "language_info": {
   "codemirror_mode": "r",
   "file_extension": ".r",
   "mimetype": "text/x-r-source",
   "name": "R",
   "pygments_lexer": "r",
   "version": "3.2.5"
  }
 },
 "nbformat": 4,
 "nbformat_minor": 2
}
